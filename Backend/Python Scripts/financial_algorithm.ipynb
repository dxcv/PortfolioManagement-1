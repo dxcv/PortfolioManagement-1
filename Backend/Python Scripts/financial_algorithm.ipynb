{
 "cells": [
  {
   "cell_type": "code",
   "execution_count": null,
   "metadata": {
    "collapsed": true
   },
   "outputs": [],
   "source": [
    "import pandas as pd\n",
    "\n",
    "import numpy as np\n",
    "\n",
    "import datetime\n",
    "\n",
    "from flask import Flask, jsonify, url_for, redirect, request\n",
    "\n",
    "from flask_pymongo import PyMongo\n",
    "\n",
    "from flask_restful import Api, Resource"
   ]
  },
  {
   "cell_type": "code",
   "execution_count": null,
   "metadata": {
    "collapsed": true
   },
   "outputs": [],
   "source": [
    "# import datetime\n",
    "# import numpy as np\n",
    "\n",
    "# while True:\n",
    "#     try:\n",
    "#         n = input(\"Please enter an integer: \")\n",
    "#         n = int(n)\n",
    "#         break\n",
    "#     except ValueError:\n",
    "#         print(\"No valid integer! Please try again ...\")\n",
    "# print(\"Great, you successfully entered an integer!\")\n",
    "\n"
   ]
  },
  {
   "cell_type": "code",
   "execution_count": null,
   "metadata": {
    "collapsed": true
   },
   "outputs": [],
   "source": [
    "portfoliosdata= pd.read_csv('C:/Users/Lenovo/Desktop/personal/project/PortfolioManagement-20190411T180751Z-001/PortfolioManagement/data/PortfoliosData.csv')\n",
    "portfoliosdata['Date'] = portfoliosdata['Date'].astype('datetime64[ns]')\n",
    "\n",
    "# a = pd.DataFrame({'a':[1,2], 'b':[3,4]})\n",
    "# def letgo(df):\n",
    "#     df = df.drop('b',axis=1)\n",
    "# letgo(a)\n",
    "#df.loc[df['a']>0, ['b','c']]\n",
    "\n",
    "#********************************************** Obtain User Id Starts ************************************************\n",
    "\n",
    "def ObtainUserId():  # in numpy.datetime64 format\n",
    "    \n",
    "    while True:\n",
    "        try:\n",
    "            UserId = input(\"Please enter UserId: \")\n",
    "            UserId = int(UserId)\n",
    "            break\n",
    "        except ValueError:\n",
    "            print(\"No valid integer! Please try again ...\")\n",
    "    print(\"Great, you successfully entered an integer!\")\n",
    "    \n",
    "    return UserId\n",
    "\n",
    "    ########################### Testing Starts ####################\n",
    "\n",
    "#test the ObtainUserId function    \n",
    "#UserId= ObtainUserId()\n",
    "#print(UserId)\n",
    "\n",
    "    ########################### Testing Ends ####################\n",
    "\n",
    "#********************************************** Obtain User Id Ends ************************************************\n",
    "\n",
    "#********************************************** Obtain Date Starts ************************************************\n",
    "\n",
    "def ObtainDateDt64():  # in numpy.datetime64 format\n",
    "    isValid=False\n",
    "    while not isValid:\n",
    "        userIn = input(\"Type Date dd/mm/yy: \")\n",
    "        try: # strptime throws an exception if the input doesn't match the pattern\n",
    "            d = datetime.datetime.strptime(userIn, \"%d/%m/%y\")\n",
    "            dt64=np.datetime64(d)\n",
    "            isValid=True\n",
    "        except:\n",
    "            print (\"Please try again!\\n\")\n",
    "    return dt64\n",
    "\n",
    "    ########################### Testing Starts ####################\n",
    "\n",
    "#test the ObtainDateDt64 function\n",
    "#dt64= ObtainDateDt64()\n",
    "#print(dt64)\n",
    "\n",
    "    ########################### Testing Ends ####################\n",
    "\n",
    "#********************************************** Obtain Date Ends ************************************************\n",
    "\n",
    "userid= ObtainUserId() #12\n",
    "givenDate= ObtainDateDt64() #30-09-2016\n",
    "\n",
    "def GetCashForUser(df_cash, userid, givenDate):\n",
    "    \n",
    "    cash = df_cash.loc[(df_cash[\"UserId\"] == userid) & (df_cash[\"Date\"] == givenDate), \"Cash\"].values\n",
    "    return cash\n",
    "\n",
    "#     mask = (df_cash['UserID'] == userid, df_cash['date'] == current_date)\n",
    "#     df_cash= df_cash.loc[df_cash['UserID'] == userid, ['Date','Cash']]\n",
    "\n",
    "cash = GetCashForUser(portfoliosdata, userid, givenDate )  \n",
    "currentCash= cash[0]\n",
    "#portfoliosdata= portfoliosdata.dropna(axis=1)\n",
    "#portfoliosdata.reset_index(drop=True)\n",
    "\n",
    "print((currentCash))\n",
    "\n",
    "\n",
    "#rpm=df.iloc[:,0]\n",
    "#print(rpm)\n",
    "#speed=df.iloc[:,1]\n",
    "#print(speed)\n",
    "#tripid=df.iloc[:,2]\n",
    "#rpm.to_csv('rpm.csv')\n",
    "#speed.to_csv('speed.csv')\n",
    "#print(rpm)\n",
    "\n",
    "#print(speed)\n",
    "\n",
    "#print(tripid)\n",
    "\n",
    "# rpm=df.loc[:,['engine_speed']]\n",
    "# speed=df.loc[:,['vehicle_speed']]\n",
    "\n",
    "# rpm= rpm.dropna()\n",
    "# rpm=rpm.reset_index(drop=True)\n",
    "# #print(rpm)\n",
    "\n",
    "# speed= speed.dropna()\n",
    "# speed=speed.reset_index(drop=True)\n",
    "#print(rpm)\n",
    "\n",
    "#     for x in range(1,len(acc_obs)):\n",
    "#         if(acc_obs[x])>=0: # for ha and considering 0 acc values\n",
    "            \n",
    "#             if((acc_obs[x])-(acc_ref[x]))>0:\n",
    "#                 ha_a=ha_a+1;   # no. of ha\n",
    "#             else:\n",
    "#                 ha_b=ha_b+1; #no. of sa\n"
   ]
  },
  {
   "cell_type": "code",
   "execution_count": null,
   "metadata": {
    "collapsed": true
   },
   "outputs": [],
   "source": [
    "portfoliosdata= pd.read_csv('C:/Users/Lenovo/Desktop/personal/project/PortfolioManagement-20190411T180751Z-001/PortfolioManagement/data/PortfoliosData.csv')\n",
    "portfoliosdata['Date']= pd.to_datetime(portfoliosdata['Date'])\n",
    "\n",
    "#portfoliosdata['Date'] = portfoliosdata['Date'].astype('datetime64[ns]')"
   ]
  },
  {
   "cell_type": "code",
   "execution_count": null,
   "metadata": {
    "collapsed": true
   },
   "outputs": [],
   "source": [
    "#********************************************** Obtain User Id Starts ************************************************\n",
    "\n",
    "def ObtainUserId():  # in numpy.datetime64 format\n",
    "    \n",
    "    while True:\n",
    "        try:\n",
    "            UserId = input(\"Please enter UserId: \")\n",
    "            UserId = int(UserId)\n",
    "            break\n",
    "        except ValueError:\n",
    "            print(\"No valid integer! Please try again ...\")\n",
    "    print(\"Great, you successfully entered an integer!\")\n",
    "    \n",
    "    return UserId\n",
    "\n",
    "    ########################### Testing Starts ####################\n",
    "\n",
    "#test the ObtainUserId function    \n",
    "#UserId= ObtainUserId()\n",
    "#print(UserId)\n",
    "\n",
    "    ########################### Testing Ends ####################\n",
    "\n",
    "#********************************************** Obtain User Id Ends ************************************************\n",
    "\n",
    "\n",
    "#********************************************** Obtain Date Starts ************************************************\n",
    "\n",
    "def ObtainDateDt64():  # in numpy.datetime64 format\n",
    "    isValid=False\n",
    "    while not isValid:\n",
    "        userIn = input(\"Type Date dd/mm/yy: \")\n",
    "        try: # strptime throws an exception if the input doesn't match the pattern\n",
    "            d = datetime.datetime.strptime(userIn, \"%d/%m/%y\")\n",
    "            dt64=np.datetime64(d)\n",
    "            isValid=True\n",
    "        except:\n",
    "            print (\"Please try again!\\n\")\n",
    "    return dt64\n",
    "\n",
    "    ########################### Testing Starts ####################\n",
    "\n",
    "#test the ObtainDateDt64 function\n",
    "#dt64= ObtainDateDt64()\n",
    "#print(dt64)\n",
    "\n",
    "    ########################### Testing Ends ####################\n",
    "\n",
    "#********************************************** Obtain Date Ends ************************************************"
   ]
  },
  {
   "cell_type": "code",
   "execution_count": null,
   "metadata": {
    "collapsed": true
   },
   "outputs": [],
   "source": [
    "#********************************************** Current Cash Entry Starts ************************************************\n",
    "\n",
    "def GetCashForUser(df_cash, userid, givenDate):\n",
    "    \n",
    "    cash = df_cash.loc[(df_cash[\"UserId\"] == userid) & (df_cash[\"Date\"] == givenDate), \"Cash\"].values\n",
    "    return cash\n",
    "\n",
    "#********************************************** Current Cash Entry Ends ************************************************\n",
    "\n",
    "userid= ObtainUserId() \n",
    "givenDate= ObtainDateDt64()\n",
    "\n",
    "cash = GetCashForUser(portfoliosdata, userid, givenDate )  \n",
    "currentCash= cash[0]\n",
    "\n",
    "print((currentCash))"
   ]
  },
  {
   "cell_type": "code",
   "execution_count": null,
   "metadata": {
    "collapsed": true
   },
   "outputs": [],
   "source": [
    "sharessold= pd.read_csv('C:/Users/Lenovo/Desktop/personal/project/PortfolioManagement-20190411T180751Z-001/PortfolioManagement/data/SharesSold2.csv')\n",
    "\n",
    "sharessold['PurchaseDate']= pd.to_datetime(sharessold['PurchaseDate'], dayfirst=True)\n",
    "sharessold['SellDate']= pd.to_datetime(sharessold['SellDate'], dayfirst=True)\n",
    "\n",
    "sharessold.sort_values(\"SellDate\", inplace=True)\n",
    "\n",
    "print(sharessold)\n",
    "#print(sharessold['PurchaseDate'])\n",
    "#print(sharessold['SellDate'])"
   ]
  },
  {
   "cell_type": "code",
   "execution_count": null,
   "metadata": {
    "collapsed": true
   },
   "outputs": [],
   "source": [
    "#********************************************** profitLossOnStocksSold Starts ************************************************\n",
    "\n",
    "def GetProfitLossAfterStocksSoldOnGivenDate(df_profitLossOnStocksSold, userid, givenDate):\n",
    "    \n",
    "    price = df_profitLossOnStocksSold.loc[(df_profitLossOnStocksSold[\"UserId\"] == userid) & (df_profitLossOnStocksSold[\"SellDate\"] < givenDate), \"Profit\"].groupby(df_profitLossOnStocksSold[\"UserId\"]).sum()\n",
    "    \n",
    "    return price\n",
    "\n",
    "#********************************************** profitLossOnStocksSold Ends ************************************************\n",
    "\n",
    "\n",
    "\n",
    "#df.loc[(df['a'] == 1) & (df['c'] == 2), 'b'].sum()\n",
    "\n",
    "userid= ObtainUserId() \n",
    "givenDate= ObtainDateDt64()\n",
    "\n",
    "profitLossOnStocksSold = GetProfitLossAfterStocksSoldOnGivenDate(sharessold, userid, givenDate )  \n",
    "#currentProfitLoss= price[0]\n",
    "\n",
    "print((profitLossOnStocksSold))"
   ]
  },
  {
   "cell_type": "code",
   "execution_count": null,
   "metadata": {
    "collapsed": true
   },
   "outputs": [],
   "source": [
    "#********************************************** GetPastHoldingsPurchaseForAUserOnGivenDate Starts ************************************************\n",
    "\n",
    "def GetPastHoldingsPurchaseForAUserOnGivenDate(df_GetPastHoldingsPurchaseForAUserOnGivenDate, userid, givenDate):\n",
    "    \n",
    "    price = df_GetPastHoldingsPurchaseForAUserOnGivenDate.loc[(df_GetPastHoldingsPurchaseForAUserOnGivenDate[\"UserId\"] == userid) & (df_GetPastHoldingsPurchaseForAUserOnGivenDate[\"PurchaseDate\"] <= givenDate) & (df_GetPastHoldingsPurchaseForAUserOnGivenDate[\"SellDate\"] >= givenDate), ['PurchasePrice', 'SellQty']]\n",
    "    \n",
    "    multiply= (price['PurchasePrice']* price['SellQty']).sum()\n",
    "    return multiply\n",
    "\n",
    "#********************************************** GetPastHoldingsPurchaseForAUserOnGivenDate Ends ************************************************\n",
    "\n",
    "\n",
    "\n",
    "#df.loc[(df['a'] == 1) & (df['c'] == 2), 'b'].sum()\n",
    "\n",
    "userid= ObtainUserId() \n",
    "givenDate= ObtainDateDt64()\n",
    "\n",
    "networthPurchasePastHoldings = GetPastHoldingsPurchaseForAUserOnGivenDate(sharessold, userid, givenDate )  \n",
    "#currentProfitLoss= price[0]\n",
    "\n",
    "print((networthPurchasePastHoldings))"
   ]
  },
  {
   "cell_type": "code",
   "execution_count": null,
   "metadata": {},
   "outputs": [],
   "source": [
    "sharesbought= pd.read_csv('C:/Users/Lenovo/Desktop/personal/project/PortfolioManagement-20190411T180751Z-001/PortfolioManagement/data/SharesBought.csv')\n",
    "\n",
    "sharesbought['PurchaseDate']= pd.to_datetime(sharesbought['PurchaseDate'], dayfirst=True)\n",
    "#sharesbought['SellDate']= pd.to_datetime(sharesbought['SellDate'], dayfirst=True)\n",
    "\n",
    "sharesbought.sort_values(\"PurchaseDate\", inplace=True)\n",
    "\n",
    "print(sharesbought)\n",
    "#print(sharesbought['PurchaseDate'])\n",
    "#print(sharesbought['SellDate'])"
   ]
  },
  {
   "cell_type": "code",
   "execution_count": null,
   "metadata": {},
   "outputs": [],
   "source": [
    "#********************************************** GetPastHoldingsPurchaseForAUserOnGivenDate Starts ************************************************\n",
    "\n",
    "def GetBuyingPriceForAUserOnGivenDate(df_GetBuyingPriceForAUserOnGivenDate, userid, givenDate):\n",
    "    \n",
    "    price = df_GetBuyingPriceForAUserOnGivenDate.loc[(df_GetBuyingPriceForAUserOnGivenDate[\"UserId\"] == userid) & (df_GetBuyingPriceForAUserOnGivenDate[\"PurchaseDate\"] <= givenDate), ['PurchasePrice', 'PurchaseQty']]\n",
    "    \n",
    "    multiply= (price['PurchasePrice']* price['PurchaseQty']).sum()\n",
    "    return multiply\n",
    "\n",
    "#********************************************** GetPastHoldingsPurchaseForAUserOnGivenDate Ends ************************************************\n",
    "\n",
    "\n",
    "\n",
    "#df.loc[(df['a'] == 1) & (df['c'] == 2), 'b'].sum()\n",
    "\n",
    "userid= ObtainUserId() \n",
    "givenDate= ObtainDateDt64()\n",
    "\n",
    "buyingPriceOnGivenDateForAUser = GetBuyingPriceForAUserOnGivenDate(sharesbought, userid, givenDate )  \n",
    "#currentProfitLoss= price[0]\n",
    "\n",
    "print((buyingPriceOnGivenDateForAUser))"
   ]
  },
  {
   "cell_type": "code",
   "execution_count": null,
   "metadata": {
    "collapsed": true
   },
   "outputs": [],
   "source": [
    "#********************************************** GetPastHoldingsPurchaseForAUserOnGivenDate Starts ************************************************\n",
    "\n",
    "def GetBuyingPriceForAUserOnGivenDate(df_GetBuyingPriceForAUserOnGivenDate, userid, givenDate):\n",
    "    \n",
    "    price = df_GetBuyingPriceForAUserOnGivenDate.loc[(df_GetBuyingPriceForAUserOnGivenDate[\"UserId\"] == userid) & (df_GetBuyingPriceForAUserOnGivenDate[\"PurchaseDate\"] <= givenDate), ['PurchasePrice', 'PurchaseQty']]\n",
    "    \n",
    "    multiply= (price['PurchasePrice']* price['PurchaseQty']).sum()\n",
    "    return multiply\n",
    "\n",
    "#********************************************** GetPastHoldingsPurchaseForAUserOnGivenDate Ends ************************************************\n",
    "\n",
    "\n",
    "\n",
    "#df.loc[(df['a'] == 1) & (df['c'] == 2), 'b'].sum()\n",
    "\n",
    "userid= ObtainUserId() \n",
    "givenDate= ObtainDateDt64()\n",
    "\n",
    "buyingPriceOnGivenDateForAUser = GetBuyingPriceForAUserOnGivenDate(sharesbought, userid, givenDate )  \n",
    "#currentProfitLoss= price[0]\n",
    "\n",
    "print((buyingPriceOnGivenDateForAUser))"
   ]
  },
  {
   "cell_type": "code",
   "execution_count": null,
   "metadata": {
    "collapsed": true
   },
   "outputs": [],
   "source": [
    "portfoliosdata= portfoliosdata.dropna(axis=1)\n",
    "portfoliosdata.reset_index(drop=True)\n",
    "print(portfoliosdata)"
   ]
  },
  {
   "cell_type": "code",
   "execution_count": null,
   "metadata": {
    "collapsed": true
   },
   "outputs": [],
   "source": [
    "date=portfoliosdata.iloc[:,1]\n",
    "print(date)"
   ]
  },
  {
   "cell_type": "code",
   "execution_count": null,
   "metadata": {
    "collapsed": true
   },
   "outputs": [],
   "source": [
    "def cash(ele1,ele2):\n",
    "   return ele1+ele2\n",
    "\n",
    "df = pd.DataFrame(np.random.randn(5,3),columns=['col1','col2','col3'])\n",
    "df.pipe(adder,2)\n",
    "print df.apply(np.mean)"
   ]
  }
 ],
 "metadata": {
  "kernelspec": {
   "display_name": "Python 3",
   "language": "python",
   "name": "python3"
  },
  "language_info": {
   "codemirror_mode": {
    "name": "ipython",
    "version": 3
   },
   "file_extension": ".py",
   "mimetype": "text/x-python",
   "name": "python",
   "nbconvert_exporter": "python",
   "pygments_lexer": "ipython3",
   "version": "3.6.1"
  }
 },
 "nbformat": 4,
 "nbformat_minor": 2
}
